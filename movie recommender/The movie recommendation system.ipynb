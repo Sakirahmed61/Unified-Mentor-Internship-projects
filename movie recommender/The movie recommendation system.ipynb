{
 "cells": [
  {
   "cell_type": "markdown",
   "metadata": {},
   "source": [
    "# <b>The Movie recommender system</b>\n",
    "- The movie recommender system is used to recommend movies to users based on the movies' features and the users activity. \n",
    "- We would enter a name for the movie and the recommender system would recommend the related movies to us\n",
    "\n",
    "#### <b>Steps involved</b>\n",
    "- First we clean the datasets and create a single dataset that includes only the necessary columns in them\n",
    "- We use normal EDA processes to analyze the dataset\n",
    "- We perform bayesian average on ratings.\n",
    "- Data pre-processing and Machine Learning\n",
    "\n",
    "<b>For a given movie, The movie recommender may use one of the two techniques</b>\n",
    "1) <b>The Collaborative Filtering:</b> suggests movies by finding similarities in user's ratings to movies of same kind. And also how other users have rated to same movie and relating them.\n",
    "\n",
    "1) <b>The Content-based Filtering:</b> suggests movies by taking the movies' features like genre, year and compare it with that of the users preference of that feature\n",
    "\n",
    "We will work on both types of filtering in this project\n",
    "\n",
    "I'm using the MovieLens dataset which has about 100836 ratings for about 9742 movies. i've already tried to create this system with the Movielens 2M dataset. But my computer cannot compute that much load. So i will stick with the small dataset for now. And, if you did'nt find all your favourite movies, remember that a movie would be present here if and only if it had been rated by anyone.\n",
    "- Credits to Toronto Machine Learning channel whose webinar featuring Jill Cates provided with the great help to create this recommender."
   ]
  },
  {
   "cell_type": "markdown",
   "metadata": {},
   "source": [
    "## Import the necessary modules\n",
    "- Some modules are imported between the project on the go. \n",
    "- I recommend to install \"fuzzywuzzy\" module from pip using `pip install fuzzywuzzy` on the terminal. You will use it later"
   ]
  },
  {
   "cell_type": "code",
   "execution_count": 11,
   "metadata": {},
   "outputs": [],
   "source": [
    "import pandas as pd\n",
    "import numpy as np\n",
    "import matplotlib.pyplot as plt\n",
    "import seaborn as sns\n",
    "from collections import Counter"
   ]
  },
  {
   "cell_type": "markdown",
   "metadata": {},
   "source": [
    "## Read the datasets"
   ]
  },
  {
   "cell_type": "code",
   "execution_count": 12,
   "metadata": {},
   "outputs": [],
   "source": [
    "movies = pd.read_csv('movies.csv')\n",
    "ratings = pd.read_csv('ratings.csv')"
   ]
  },
  {
   "cell_type": "markdown",
   "metadata": {},
   "source": [
    "### Basic analysis of the databases\n",
    "#### The movies dataset"
   ]
  },
  {
   "cell_type": "code",
   "execution_count": 13,
   "metadata": {},
   "outputs": [
    {
     "data": {
      "text/html": [
       "<div>\n",
       "<style scoped>\n",
       "    .dataframe tbody tr th:only-of-type {\n",
       "        vertical-align: middle;\n",
       "    }\n",
       "\n",
       "    .dataframe tbody tr th {\n",
       "        vertical-align: top;\n",
       "    }\n",
       "\n",
       "    .dataframe thead th {\n",
       "        text-align: right;\n",
       "    }\n",
       "</style>\n",
       "<table border=\"1\" class=\"dataframe\">\n",
       "  <thead>\n",
       "    <tr style=\"text-align: right;\">\n",
       "      <th></th>\n",
       "      <th>movieId</th>\n",
       "      <th>title</th>\n",
       "      <th>genres</th>\n",
       "    </tr>\n",
       "  </thead>\n",
       "  <tbody>\n",
       "    <tr>\n",
       "      <th>0</th>\n",
       "      <td>1</td>\n",
       "      <td>Toy Story (1995)</td>\n",
       "      <td>Adventure|Animation|Children|Comedy|Fantasy</td>\n",
       "    </tr>\n",
       "    <tr>\n",
       "      <th>1</th>\n",
       "      <td>2</td>\n",
       "      <td>Jumanji (1995)</td>\n",
       "      <td>Adventure|Children|Fantasy</td>\n",
       "    </tr>\n",
       "    <tr>\n",
       "      <th>2</th>\n",
       "      <td>3</td>\n",
       "      <td>Grumpier Old Men (1995)</td>\n",
       "      <td>Comedy|Romance</td>\n",
       "    </tr>\n",
       "    <tr>\n",
       "      <th>3</th>\n",
       "      <td>4</td>\n",
       "      <td>Waiting to Exhale (1995)</td>\n",
       "      <td>Comedy|Drama|Romance</td>\n",
       "    </tr>\n",
       "    <tr>\n",
       "      <th>4</th>\n",
       "      <td>5</td>\n",
       "      <td>Father of the Bride Part II (1995)</td>\n",
       "      <td>Comedy</td>\n",
       "    </tr>\n",
       "    <tr>\n",
       "      <th>5</th>\n",
       "      <td>6</td>\n",
       "      <td>Heat (1995)</td>\n",
       "      <td>Action|Crime|Thriller</td>\n",
       "    </tr>\n",
       "    <tr>\n",
       "      <th>6</th>\n",
       "      <td>7</td>\n",
       "      <td>Sabrina (1995)</td>\n",
       "      <td>Comedy|Romance</td>\n",
       "    </tr>\n",
       "    <tr>\n",
       "      <th>7</th>\n",
       "      <td>8</td>\n",
       "      <td>Tom and Huck (1995)</td>\n",
       "      <td>Adventure|Children</td>\n",
       "    </tr>\n",
       "    <tr>\n",
       "      <th>8</th>\n",
       "      <td>9</td>\n",
       "      <td>Sudden Death (1995)</td>\n",
       "      <td>Action</td>\n",
       "    </tr>\n",
       "    <tr>\n",
       "      <th>9</th>\n",
       "      <td>10</td>\n",
       "      <td>GoldenEye (1995)</td>\n",
       "      <td>Action|Adventure|Thriller</td>\n",
       "    </tr>\n",
       "  </tbody>\n",
       "</table>\n",
       "</div>"
      ],
      "text/plain": [
       "   movieId                               title  \\\n",
       "0        1                    Toy Story (1995)   \n",
       "1        2                      Jumanji (1995)   \n",
       "2        3             Grumpier Old Men (1995)   \n",
       "3        4            Waiting to Exhale (1995)   \n",
       "4        5  Father of the Bride Part II (1995)   \n",
       "5        6                         Heat (1995)   \n",
       "6        7                      Sabrina (1995)   \n",
       "7        8                 Tom and Huck (1995)   \n",
       "8        9                 Sudden Death (1995)   \n",
       "9       10                    GoldenEye (1995)   \n",
       "\n",
       "                                        genres  \n",
       "0  Adventure|Animation|Children|Comedy|Fantasy  \n",
       "1                   Adventure|Children|Fantasy  \n",
       "2                               Comedy|Romance  \n",
       "3                         Comedy|Drama|Romance  \n",
       "4                                       Comedy  \n",
       "5                        Action|Crime|Thriller  \n",
       "6                               Comedy|Romance  \n",
       "7                           Adventure|Children  \n",
       "8                                       Action  \n",
       "9                    Action|Adventure|Thriller  "
      ]
     },
     "execution_count": 13,
     "metadata": {},
     "output_type": "execute_result"
    }
   ],
   "source": [
    "movies = movies.drop_duplicates() # there was probably no duplicates\n",
    "movies.head(10)"
   ]
  },
  {
   "cell_type": "code",
   "execution_count": 14,
   "metadata": {},
   "outputs": [
    {
     "name": "stdout",
     "output_type": "stream",
     "text": [
      "<class 'pandas.core.frame.DataFrame'>\n",
      "RangeIndex: 9742 entries, 0 to 9741\n",
      "Data columns (total 3 columns):\n",
      " #   Column   Non-Null Count  Dtype \n",
      "---  ------   --------------  ----- \n",
      " 0   movieId  9742 non-null   int64 \n",
      " 1   title    9742 non-null   object\n",
      " 2   genres   9742 non-null   object\n",
      "dtypes: int64(1), object(2)\n",
      "memory usage: 228.5+ KB\n"
     ]
    },
    {
     "data": {
      "text/plain": [
       "movieId    0\n",
       "title      0\n",
       "genres     0\n",
       "dtype: int64"
      ]
     },
     "execution_count": 14,
     "metadata": {},
     "output_type": "execute_result"
    }
   ],
   "source": [
    "movies.info() # all the datatypes are good\n",
    "movies.isnull().sum() # no null values either"
   ]
  },
  {
   "cell_type": "code",
   "execution_count": 15,
   "metadata": {},
   "outputs": [],
   "source": [
    "# lets clean the genres column\n",
    "movies['genres'] = movies['genres'].apply(lambda x: x.split('|'))"
   ]
  },
  {
   "cell_type": "markdown",
   "metadata": {},
   "source": [
    "#### <b>The ratings dataset</b>"
   ]
  },
  {
   "cell_type": "code",
   "execution_count": 16,
   "metadata": {},
   "outputs": [
    {
     "data": {
      "text/html": [
       "<div>\n",
       "<style scoped>\n",
       "    .dataframe tbody tr th:only-of-type {\n",
       "        vertical-align: middle;\n",
       "    }\n",
       "\n",
       "    .dataframe tbody tr th {\n",
       "        vertical-align: top;\n",
       "    }\n",
       "\n",
       "    .dataframe thead th {\n",
       "        text-align: right;\n",
       "    }\n",
       "</style>\n",
       "<table border=\"1\" class=\"dataframe\">\n",
       "  <thead>\n",
       "    <tr style=\"text-align: right;\">\n",
       "      <th></th>\n",
       "      <th>userId</th>\n",
       "      <th>movieId</th>\n",
       "      <th>rating</th>\n",
       "      <th>timestamp</th>\n",
       "    </tr>\n",
       "  </thead>\n",
       "  <tbody>\n",
       "    <tr>\n",
       "      <th>0</th>\n",
       "      <td>1</td>\n",
       "      <td>1</td>\n",
       "      <td>4.0</td>\n",
       "      <td>964982703</td>\n",
       "    </tr>\n",
       "    <tr>\n",
       "      <th>1</th>\n",
       "      <td>1</td>\n",
       "      <td>3</td>\n",
       "      <td>4.0</td>\n",
       "      <td>964981247</td>\n",
       "    </tr>\n",
       "    <tr>\n",
       "      <th>2</th>\n",
       "      <td>1</td>\n",
       "      <td>6</td>\n",
       "      <td>4.0</td>\n",
       "      <td>964982224</td>\n",
       "    </tr>\n",
       "    <tr>\n",
       "      <th>3</th>\n",
       "      <td>1</td>\n",
       "      <td>47</td>\n",
       "      <td>5.0</td>\n",
       "      <td>964983815</td>\n",
       "    </tr>\n",
       "    <tr>\n",
       "      <th>4</th>\n",
       "      <td>1</td>\n",
       "      <td>50</td>\n",
       "      <td>5.0</td>\n",
       "      <td>964982931</td>\n",
       "    </tr>\n",
       "    <tr>\n",
       "      <th>5</th>\n",
       "      <td>1</td>\n",
       "      <td>70</td>\n",
       "      <td>3.0</td>\n",
       "      <td>964982400</td>\n",
       "    </tr>\n",
       "    <tr>\n",
       "      <th>6</th>\n",
       "      <td>1</td>\n",
       "      <td>101</td>\n",
       "      <td>5.0</td>\n",
       "      <td>964980868</td>\n",
       "    </tr>\n",
       "    <tr>\n",
       "      <th>7</th>\n",
       "      <td>1</td>\n",
       "      <td>110</td>\n",
       "      <td>4.0</td>\n",
       "      <td>964982176</td>\n",
       "    </tr>\n",
       "    <tr>\n",
       "      <th>8</th>\n",
       "      <td>1</td>\n",
       "      <td>151</td>\n",
       "      <td>5.0</td>\n",
       "      <td>964984041</td>\n",
       "    </tr>\n",
       "    <tr>\n",
       "      <th>9</th>\n",
       "      <td>1</td>\n",
       "      <td>157</td>\n",
       "      <td>5.0</td>\n",
       "      <td>964984100</td>\n",
       "    </tr>\n",
       "  </tbody>\n",
       "</table>\n",
       "</div>"
      ],
      "text/plain": [
       "   userId  movieId  rating  timestamp\n",
       "0       1        1     4.0  964982703\n",
       "1       1        3     4.0  964981247\n",
       "2       1        6     4.0  964982224\n",
       "3       1       47     5.0  964983815\n",
       "4       1       50     5.0  964982931\n",
       "5       1       70     3.0  964982400\n",
       "6       1      101     5.0  964980868\n",
       "7       1      110     4.0  964982176\n",
       "8       1      151     5.0  964984041\n",
       "9       1      157     5.0  964984100"
      ]
     },
     "execution_count": 16,
     "metadata": {},
     "output_type": "execute_result"
    }
   ],
   "source": [
    "ratings = ratings.drop_duplicates() # there were no duplicates as well\n",
    "ratings.head(10)"
   ]
  },
  {
   "cell_type": "code",
   "execution_count": 17,
   "metadata": {},
   "outputs": [
    {
     "name": "stdout",
     "output_type": "stream",
     "text": [
      "<class 'pandas.core.frame.DataFrame'>\n",
      "RangeIndex: 100836 entries, 0 to 100835\n",
      "Data columns (total 4 columns):\n",
      " #   Column     Non-Null Count   Dtype  \n",
      "---  ------     --------------   -----  \n",
      " 0   userId     100836 non-null  int64  \n",
      " 1   movieId    100836 non-null  int64  \n",
      " 2   rating     100836 non-null  float64\n",
      " 3   timestamp  100836 non-null  int64  \n",
      "dtypes: float64(1), int64(3)\n",
      "memory usage: 3.1 MB\n"
     ]
    }
   ],
   "source": [
    "ratings.isnull().sum() # no null values in this dataset\n",
    "ratings.info() # All good. I guess i dont need to change the timestamp"
   ]
  },
  {
   "cell_type": "markdown",
   "metadata": {},
   "source": [
    "## Exploratory Data Analysis (EDA)\n",
    "- Lets perform EDA and find useful information from the dataset"
   ]
  },
  {
   "cell_type": "code",
   "execution_count": 18,
   "metadata": {},
   "outputs": [
    {
     "name": "stdout",
     "output_type": "stream",
     "text": [
      "Total no of users: 610\n",
      "Total no of movies: 9724\n",
      "\n",
      "Average ratings per movie: 10.37\n",
      "Average ratings per user: 165.305\n"
     ]
    }
   ],
   "source": [
    "n_movies = ratings['movieId'].nunique() # total no of unique movies in the ratings dataset. \n",
    "n_users = ratings['userId'].nunique() # Total no of unique users ratings in the dataset\n",
    "\n",
    "print(f'Total no of users: {n_users}')\n",
    "print(f'Total no of movies: {n_movies}')\n",
    "print(f'\\nAverage ratings per movie: {round(len(ratings['movieId'])/n_movies,3)}')\n",
    "print(f'Average ratings per user: {round(len(ratings['userId'])/n_users,3)}')\n"
   ]
  },
  {
   "cell_type": "code",
   "execution_count": 19,
   "metadata": {},
   "outputs": [
    {
     "data": {
      "text/plain": [
       "Text(0.5, 1.0, 'Distribution of Movie ratings')"
      ]
     },
     "execution_count": 19,
     "metadata": {},
     "output_type": "execute_result"
    },
    {
     "data": {
      "image/png": "[encoded data removed]",
      "text/plain": [
       "<Figure size 640x480 with 1 Axes>"
      ]
     },
     "metadata": {},
     "output_type": "display_data"
    }
   ],
   "source": [
    "# Lets see a Quick visual of the distribution of ratings\n",
    "sns.countplot(\n",
    "    x='rating',\n",
    "    data=ratings,\n",
    "    palette='viridis',\n",
    "    hue='rating')\n",
    "plt.title('Distribution of Movie ratings')"
   ]
  },
  {
   "cell_type": "markdown",
   "metadata": {},
   "source": [
    "looks like more people tend to give fair to good ratings for the movies"
   ]
  },
  {
   "cell_type": "code",
   "execution_count": 20,
   "metadata": {},
   "outputs": [
    {
     "name": "stdout",
     "output_type": "stream",
     "text": [
      "Mean ratings of movies taken globally: 3.502\n"
     ]
    }
   ],
   "source": [
    "print(f'Mean ratings of movies taken globally: {round(ratings['rating'].mean(),3)}')"
   ]
  },
  {
   "cell_type": "code",
   "execution_count": 21,
   "metadata": {},
   "outputs": [
    {
     "name": "stdout",
     "output_type": "stream",
     "text": [
      "average user rating: 3.66\n"
     ]
    }
   ],
   "source": [
    "mean_user_ratings = ratings.groupby(by='userId')['rating'].mean() # grouped by User id. Gives the avg rating of every user in the ratings df\n",
    "print(f'average user rating: {round(mean_user_ratings.mean(),2)}') "
   ]
  },
  {
   "cell_type": "code",
   "execution_count": 22,
   "metadata": {},
   "outputs": [
    {
     "data": {
      "text/html": [
       "<div>\n",
       "<style scoped>\n",
       "    .dataframe tbody tr th:only-of-type {\n",
       "        vertical-align: middle;\n",
       "    }\n",
       "\n",
       "    .dataframe tbody tr th {\n",
       "        vertical-align: top;\n",
       "    }\n",
       "\n",
       "    .dataframe thead th {\n",
       "        text-align: right;\n",
       "    }\n",
       "</style>\n",
       "<table border=\"1\" class=\"dataframe\">\n",
       "  <thead>\n",
       "    <tr style=\"text-align: right;\">\n",
       "      <th></th>\n",
       "      <th>movieId</th>\n",
       "      <th>count</th>\n",
       "      <th>title</th>\n",
       "    </tr>\n",
       "  </thead>\n",
       "  <tbody>\n",
       "    <tr>\n",
       "      <th>0</th>\n",
       "      <td>356</td>\n",
       "      <td>329</td>\n",
       "      <td>Forrest Gump (1994)</td>\n",
       "    </tr>\n",
       "    <tr>\n",
       "      <th>1</th>\n",
       "      <td>318</td>\n",
       "      <td>317</td>\n",
       "      <td>Shawshank Redemption, The (1994)</td>\n",
       "    </tr>\n",
       "    <tr>\n",
       "      <th>2</th>\n",
       "      <td>296</td>\n",
       "      <td>307</td>\n",
       "      <td>Pulp Fiction (1994)</td>\n",
       "    </tr>\n",
       "    <tr>\n",
       "      <th>3</th>\n",
       "      <td>593</td>\n",
       "      <td>279</td>\n",
       "      <td>Silence of the Lambs, The (1991)</td>\n",
       "    </tr>\n",
       "    <tr>\n",
       "      <th>4</th>\n",
       "      <td>2571</td>\n",
       "      <td>278</td>\n",
       "      <td>Matrix, The (1999)</td>\n",
       "    </tr>\n",
       "    <tr>\n",
       "      <th>5</th>\n",
       "      <td>260</td>\n",
       "      <td>251</td>\n",
       "      <td>Star Wars: Episode IV - A New Hope (1977)</td>\n",
       "    </tr>\n",
       "    <tr>\n",
       "      <th>6</th>\n",
       "      <td>480</td>\n",
       "      <td>238</td>\n",
       "      <td>Jurassic Park (1993)</td>\n",
       "    </tr>\n",
       "    <tr>\n",
       "      <th>7</th>\n",
       "      <td>110</td>\n",
       "      <td>237</td>\n",
       "      <td>Braveheart (1995)</td>\n",
       "    </tr>\n",
       "    <tr>\n",
       "      <th>8</th>\n",
       "      <td>589</td>\n",
       "      <td>224</td>\n",
       "      <td>Terminator 2: Judgment Day (1991)</td>\n",
       "    </tr>\n",
       "    <tr>\n",
       "      <th>9</th>\n",
       "      <td>527</td>\n",
       "      <td>220</td>\n",
       "      <td>Schindler's List (1993)</td>\n",
       "    </tr>\n",
       "  </tbody>\n",
       "</table>\n",
       "</div>"
      ],
      "text/plain": [
       "   movieId  count                                      title\n",
       "0      356    329                        Forrest Gump (1994)\n",
       "1      318    317           Shawshank Redemption, The (1994)\n",
       "2      296    307                        Pulp Fiction (1994)\n",
       "3      593    279           Silence of the Lambs, The (1991)\n",
       "4     2571    278                         Matrix, The (1999)\n",
       "5      260    251  Star Wars: Episode IV - A New Hope (1977)\n",
       "6      480    238                       Jurassic Park (1993)\n",
       "7      110    237                          Braveheart (1995)\n",
       "8      589    224          Terminator 2: Judgment Day (1991)\n",
       "9      527    220                    Schindler's List (1993)"
      ]
     },
     "execution_count": 22,
     "metadata": {},
     "output_type": "execute_result"
    }
   ],
   "source": [
    "n_ratings_per_movie = ratings['movieId'].value_counts().reset_index() # grouped by movieId. Gives the frequency of rating of every movie\n",
    "n_ratings_per_movie.merge(movies[['title','movieId']],on='movieId')[0:10]"
   ]
  },
  {
   "cell_type": "markdown",
   "metadata": {},
   "source": [
    "`Forrest Gump`, `The Shawshank Redemption(1994)`, `Pulp Fiction` have the most amount of ratings. \n",
    "\n",
    "(Note: they are not the highest rated movies, not yet)"
   ]
  },
  {
   "cell_type": "markdown",
   "metadata": {},
   "source": [
    "#### <b>Highest and Lowest rated movies</b>"
   ]
  },
  {
   "cell_type": "code",
   "execution_count": 23,
   "metadata": {},
   "outputs": [
    {
     "name": "stdout",
     "output_type": "stream",
     "text": [
      "The lowest rated movie is: Gypsy (1962)\n",
      "The highest rated movie is: Lamerica (1994)\n"
     ]
    }
   ],
   "source": [
    "avg_ratings = ratings.groupby(by='movieId')[['rating']].mean()\n",
    "avg_ratings = avg_ratings.merge(movies[['movieId','title']],on='movieId')\n",
    "\n",
    "# get the id of the lowest rated movie using idxmin() and print out the movie using iloc\n",
    "lowest_rated_movie = avg_ratings['rating'].idxmin()\n",
    "print(f'The lowest rated movie is: {avg_ratings.iloc[2685]['title']}')\n",
    "\n",
    "# get the id of the highest rated movie using idxmax() and print out the movie using iloc\n",
    "highest_rated_movie = avg_ratings['rating'].idxmax() \n",
    "print(f'The highest rated movie is: {avg_ratings.iloc[48]['title']}')"
   ]
  },
  {
   "cell_type": "markdown",
   "metadata": {},
   "source": [
    "But this is not the actual ratings of the movies. these are the simple average of the movies. \n",
    "we cannot consider this rating as the actual rating. Because\n",
    "1) If a movie has an average rating of 4.3 out of 300 ratings, you can conclude that it has been viewed by many people and has a genuine review\n",
    "2) But if another movie has rating of 5 out of only 3 ratings, you cannot be sure about the movie's goodness\n",
    "3) That is if a movie has only one 5 star rating, it would simply be the best movie out of everything.\n",
    "\n",
    "A bayesian Avg would be the proper solution for this problem"
   ]
  },
  {
   "cell_type": "markdown",
   "metadata": {},
   "source": [
    "#### <b>Calculating the Bayesian average for every movie.</b>\n",
    "<b>formula for bayesian average</b> = C * M + (sum(x1 + x2 + x3 + ... + xn)) / c + n\n",
    "where:\n",
    "- <b>C</b> = it is the sample taken from the population or confidence ( in our case, The mean number of ratings per movie )\n",
    "- <b>M</b> = it is the simple mean of the total population ( the mean of all the ratings of all movies combined )\n",
    "- <b>xn</b> = they are the sum of individual ratings ( In our case,, all the ratings for a given movie, even if its just 1 )\n",
    "- <b>n</b> = total count of values in the list"
   ]
  },
  {
   "cell_type": "code",
   "execution_count": 24,
   "metadata": {},
   "outputs": [
    {
     "name": "stdout",
     "output_type": "stream",
     "text": [
      "The average number of ratings for a given movie: 10.3698\n",
      "The average rating for a given movie: 3.2624\n"
     ]
    }
   ],
   "source": [
    "# Create the movie stats df which contains the no of ratings for a movie, their simple avg of their ratings and the bayesian avg of every movie\n",
    "# the bayesian avg must be calculated for each movie.\n",
    "movie_stats = ratings.groupby(by='movieId')['rating'].agg(['count','mean'])\n",
    "C = movie_stats['count'].mean()\n",
    "M = movie_stats['mean'].mean()\n",
    "\n",
    "print(f'The average number of ratings for a given movie: {C:.4f}')\n",
    "print(f'The average rating for a given movie: {M:.4f}')\n",
    "\n",
    "# create the function to calculate bayesian avg\n",
    "def bayesian_avg(rating):\n",
    "    bayesian_value = (C * M + (rating.sum())) / (C + rating.count())\n",
    "    return bayesian_value\n"
   ]
  },
  {
   "cell_type": "code",
   "execution_count": 25,
   "metadata": {},
   "outputs": [
    {
     "data": {
      "text/html": [
       "<div>\n",
       "<style scoped>\n",
       "    .dataframe tbody tr th:only-of-type {\n",
       "        vertical-align: middle;\n",
       "    }\n",
       "\n",
       "    .dataframe tbody tr th {\n",
       "        vertical-align: top;\n",
       "    }\n",
       "\n",
       "    .dataframe thead th {\n",
       "        text-align: right;\n",
       "    }\n",
       "</style>\n",
       "<table border=\"1\" class=\"dataframe\">\n",
       "  <thead>\n",
       "    <tr style=\"text-align: right;\">\n",
       "      <th></th>\n",
       "      <th>movieId</th>\n",
       "      <th>count</th>\n",
       "      <th>bayesian avg ratng</th>\n",
       "      <th>title</th>\n",
       "    </tr>\n",
       "  </thead>\n",
       "  <tbody>\n",
       "    <tr>\n",
       "      <th>0</th>\n",
       "      <td>1</td>\n",
       "      <td>215</td>\n",
       "      <td>3.890632</td>\n",
       "      <td>Toy Story (1995)</td>\n",
       "    </tr>\n",
       "    <tr>\n",
       "      <th>1</th>\n",
       "      <td>2</td>\n",
       "      <td>110</td>\n",
       "      <td>3.417227</td>\n",
       "      <td>Jumanji (1995)</td>\n",
       "    </tr>\n",
       "    <tr>\n",
       "      <th>2</th>\n",
       "      <td>3</td>\n",
       "      <td>52</td>\n",
       "      <td>3.260086</td>\n",
       "      <td>Grumpier Old Men (1995)</td>\n",
       "    </tr>\n",
       "    <tr>\n",
       "      <th>3</th>\n",
       "      <td>4</td>\n",
       "      <td>7</td>\n",
       "      <td>2.897612</td>\n",
       "      <td>Waiting to Exhale (1995)</td>\n",
       "    </tr>\n",
       "    <tr>\n",
       "      <th>4</th>\n",
       "      <td>5</td>\n",
       "      <td>49</td>\n",
       "      <td>3.104793</td>\n",
       "      <td>Father of the Bride Part II (1995)</td>\n",
       "    </tr>\n",
       "    <tr>\n",
       "      <th>...</th>\n",
       "      <td>...</td>\n",
       "      <td>...</td>\n",
       "      <td>...</td>\n",
       "      <td>...</td>\n",
       "    </tr>\n",
       "    <tr>\n",
       "      <th>9719</th>\n",
       "      <td>193581</td>\n",
       "      <td>1</td>\n",
       "      <td>3.327318</td>\n",
       "      <td>Black Butler: Book of the Atlantic (2017)</td>\n",
       "    </tr>\n",
       "    <tr>\n",
       "      <th>9720</th>\n",
       "      <td>193583</td>\n",
       "      <td>1</td>\n",
       "      <td>3.283341</td>\n",
       "      <td>No Game No Life: Zero (2017)</td>\n",
       "    </tr>\n",
       "    <tr>\n",
       "      <th>9721</th>\n",
       "      <td>193585</td>\n",
       "      <td>1</td>\n",
       "      <td>3.283341</td>\n",
       "      <td>Flint (2017)</td>\n",
       "    </tr>\n",
       "    <tr>\n",
       "      <th>9722</th>\n",
       "      <td>193587</td>\n",
       "      <td>1</td>\n",
       "      <td>3.283341</td>\n",
       "      <td>Bungo Stray Dogs: Dead Apple (2018)</td>\n",
       "    </tr>\n",
       "    <tr>\n",
       "      <th>9723</th>\n",
       "      <td>193609</td>\n",
       "      <td>1</td>\n",
       "      <td>3.327318</td>\n",
       "      <td>Andrew Dice Clay: Dice Rules (1991)</td>\n",
       "    </tr>\n",
       "  </tbody>\n",
       "</table>\n",
       "<p>9724 rows × 4 columns</p>\n",
       "</div>"
      ],
      "text/plain": [
       "      movieId  count  bayesian avg ratng  \\\n",
       "0           1    215            3.890632   \n",
       "1           2    110            3.417227   \n",
       "2           3     52            3.260086   \n",
       "3           4      7            2.897612   \n",
       "4           5     49            3.104793   \n",
       "...       ...    ...                 ...   \n",
       "9719   193581      1            3.327318   \n",
       "9720   193583      1            3.283341   \n",
       "9721   193585      1            3.283341   \n",
       "9722   193587      1            3.283341   \n",
       "9723   193609      1            3.327318   \n",
       "\n",
       "                                          title  \n",
       "0                              Toy Story (1995)  \n",
       "1                                Jumanji (1995)  \n",
       "2                       Grumpier Old Men (1995)  \n",
       "3                      Waiting to Exhale (1995)  \n",
       "4            Father of the Bride Part II (1995)  \n",
       "...                                         ...  \n",
       "9719  Black Butler: Book of the Atlantic (2017)  \n",
       "9720               No Game No Life: Zero (2017)  \n",
       "9721                               Flint (2017)  \n",
       "9722        Bungo Stray Dogs: Dead Apple (2018)  \n",
       "9723        Andrew Dice Clay: Dice Rules (1991)  \n",
       "\n",
       "[9724 rows x 4 columns]"
      ]
     },
     "execution_count": 25,
     "metadata": {},
     "output_type": "execute_result"
    }
   ],
   "source": [
    "# now we find the bayesian values for every movie on the ratings table. \\\n",
    "bayesian_values = ratings.groupby('movieId')['rating'].agg(bayesian_avg).reset_index()\n",
    "\n",
    "# add those values to the movie stats dataframe\n",
    "movie_stats = movie_stats.merge(bayesian_values,on='movieId')\n",
    "\n",
    "# we dont need the simple averaga anymore\n",
    "movie_stats.drop(columns='mean',inplace=True)\n",
    "# rename the columns\n",
    "movie_stats.columns = ['movieId','count','bayesian avg ratng']\n",
    "# merge the movie titles to the movie stats dataframe\n",
    "movie_stats = movie_stats.merge(movies[['title','movieId']],on='movieId')\n",
    "movie_stats"
   ]
  },
  {
   "cell_type": "markdown",
   "metadata": {},
   "source": [
    "<b> Top 10 Movies of this dataset </b>\n",
    "- Unlike the simple mean, now we can be assured that all movies will get ratings properly"
   ]
  },
  {
   "cell_type": "code",
   "execution_count": 52,
   "metadata": {},
   "outputs": [
    {
     "data": {
      "text/html": [
       "<div>\n",
       "<style scoped>\n",
       "    .dataframe tbody tr th:only-of-type {\n",
       "        vertical-align: middle;\n",
       "    }\n",
       "\n",
       "    .dataframe tbody tr th {\n",
       "        vertical-align: top;\n",
       "    }\n",
       "\n",
       "    .dataframe thead th {\n",
       "        text-align: right;\n",
       "    }\n",
       "</style>\n",
       "<table border=\"1\" class=\"dataframe\">\n",
       "  <thead>\n",
       "    <tr style=\"text-align: right;\">\n",
       "      <th></th>\n",
       "      <th>movieId</th>\n",
       "      <th>count</th>\n",
       "      <th>bayesian avg ratng</th>\n",
       "      <th>title</th>\n",
       "    </tr>\n",
       "  </thead>\n",
       "  <tbody>\n",
       "    <tr>\n",
       "      <th>277</th>\n",
       "      <td>318</td>\n",
       "      <td>317</td>\n",
       "      <td>4.392070</td>\n",
       "      <td>Shawshank Redemption, The (1994)</td>\n",
       "    </tr>\n",
       "    <tr>\n",
       "      <th>659</th>\n",
       "      <td>858</td>\n",
       "      <td>192</td>\n",
       "      <td>4.236457</td>\n",
       "      <td>Godfather, The (1972)</td>\n",
       "    </tr>\n",
       "    <tr>\n",
       "      <th>2224</th>\n",
       "      <td>2959</td>\n",
       "      <td>218</td>\n",
       "      <td>4.227052</td>\n",
       "      <td>Fight Club (1999)</td>\n",
       "    </tr>\n",
       "    <tr>\n",
       "      <th>224</th>\n",
       "      <td>260</td>\n",
       "      <td>251</td>\n",
       "      <td>4.192646</td>\n",
       "      <td>Star Wars: Episode IV - A New Hope (1977)</td>\n",
       "    </tr>\n",
       "    <tr>\n",
       "      <th>46</th>\n",
       "      <td>50</td>\n",
       "      <td>204</td>\n",
       "      <td>4.190567</td>\n",
       "      <td>Usual Suspects, The (1995)</td>\n",
       "    </tr>\n",
       "    <tr>\n",
       "      <th>921</th>\n",
       "      <td>1221</td>\n",
       "      <td>129</td>\n",
       "      <td>4.185490</td>\n",
       "      <td>Godfather: Part II, The (1974)</td>\n",
       "    </tr>\n",
       "    <tr>\n",
       "      <th>461</th>\n",
       "      <td>527</td>\n",
       "      <td>220</td>\n",
       "      <td>4.181672</td>\n",
       "      <td>Schindler's List (1993)</td>\n",
       "    </tr>\n",
       "    <tr>\n",
       "      <th>913</th>\n",
       "      <td>1213</td>\n",
       "      <td>126</td>\n",
       "      <td>4.174905</td>\n",
       "      <td>Goodfellas (1990)</td>\n",
       "    </tr>\n",
       "    <tr>\n",
       "      <th>6693</th>\n",
       "      <td>58559</td>\n",
       "      <td>149</td>\n",
       "      <td>4.174762</td>\n",
       "      <td>Dark Knight, The (2008)</td>\n",
       "    </tr>\n",
       "    <tr>\n",
       "      <th>897</th>\n",
       "      <td>1196</td>\n",
       "      <td>211</td>\n",
       "      <td>4.170989</td>\n",
       "      <td>Star Wars: Episode V - The Empire Strikes Back...</td>\n",
       "    </tr>\n",
       "  </tbody>\n",
       "</table>\n",
       "</div>"
      ],
      "text/plain": [
       "      movieId  count  bayesian avg ratng  \\\n",
       "277       318    317            4.392070   \n",
       "659       858    192            4.236457   \n",
       "2224     2959    218            4.227052   \n",
       "224       260    251            4.192646   \n",
       "46         50    204            4.190567   \n",
       "921      1221    129            4.185490   \n",
       "461       527    220            4.181672   \n",
       "913      1213    126            4.174905   \n",
       "6693    58559    149            4.174762   \n",
       "897      1196    211            4.170989   \n",
       "\n",
       "                                                  title  \n",
       "277                    Shawshank Redemption, The (1994)  \n",
       "659                               Godfather, The (1972)  \n",
       "2224                                  Fight Club (1999)  \n",
       "224           Star Wars: Episode IV - A New Hope (1977)  \n",
       "46                           Usual Suspects, The (1995)  \n",
       "921                      Godfather: Part II, The (1974)  \n",
       "461                             Schindler's List (1993)  \n",
       "913                                   Goodfellas (1990)  \n",
       "6693                            Dark Knight, The (2008)  \n",
       "897   Star Wars: Episode V - The Empire Strikes Back...  "
      ]
     },
     "execution_count": 52,
     "metadata": {},
     "output_type": "execute_result"
    }
   ],
   "source": [
    "movie_stats.sort_values(by='bayesian avg ratng',ascending=False).head(10)\n",
    "# movie_stats.sort_values(by='bayesian avg ratng',ascending=True).head(10)"
   ]
  },
  {
   "cell_type": "markdown",
   "metadata": {},
   "source": [
    "So these are the top most rated movies. which makes sense. Because, these are most popular movies of all time"
   ]
  },
  {
   "cell_type": "code",
   "execution_count": 51,
   "metadata": {},
   "outputs": [
    {
     "name": "stdout",
     "output_type": "stream",
     "text": [
      "The best rated movie of this dataset is: Shawshank Redemption, The (1994)\n",
      "The worst rated movie of this dataset is: Pillow Book, The (1996)\n"
     ]
    }
   ],
   "source": [
    "# we find the highest and the lowest rated movies now\n",
    "best_rated = movie_stats['bayesian avg ratng'].idxmax()\n",
    "worst_rated = movie_stats['bayesian avg ratng'].idxmin()\n",
    "\n",
    "print(f'The best rated movie of this dataset is: {movies.iloc[best_rated]['title']}')\n",
    "print(f'The worst rated movie of this dataset is: {movies.iloc[worst_rated]['title']}')"
   ]
  },
  {
   "cell_type": "markdown",
   "metadata": {},
   "source": [
    "#### <b>Working with the movie Genres</b>\n",
    "Lets filter using genres of movies and analyze the information"
   ]
  },
  {
   "cell_type": "code",
   "execution_count": 28,
   "metadata": {},
   "outputs": [
    {
     "name": "stdout",
     "output_type": "stream",
     "text": [
      "There are 20 categories of genres\n"
     ]
    },
    {
     "data": {
      "text/plain": [
       "Counter({'Drama': 4361,\n",
       "         'Comedy': 3756,\n",
       "         'Thriller': 1894,\n",
       "         'Action': 1828,\n",
       "         'Romance': 1596,\n",
       "         'Adventure': 1263,\n",
       "         'Crime': 1199,\n",
       "         'Sci-Fi': 980,\n",
       "         'Horror': 978,\n",
       "         'Fantasy': 779,\n",
       "         'Children': 664,\n",
       "         'Animation': 611,\n",
       "         'Mystery': 573,\n",
       "         'Documentary': 440,\n",
       "         'War': 382,\n",
       "         'Musical': 334,\n",
       "         'Western': 167,\n",
       "         'IMAX': 158,\n",
       "         'Film-Noir': 87,\n",
       "         '(no genres listed)': 34})"
      ]
     },
     "execution_count": 28,
     "metadata": {},
     "output_type": "execute_result"
    }
   ],
   "source": [
    "# lets check the frequency of genres in the dataset. We use Counter() from python collections\n",
    "\n",
    "genre_count = Counter(g for genres in movies['genres'] for g in genres)\n",
    "print('There are',len(genre_count),'categories of genres')\n",
    "genre_count"
   ]
  },
  {
   "cell_type": "code",
   "execution_count": 29,
   "metadata": {},
   "outputs": [
    {
     "name": "stdout",
     "output_type": "stream",
     "text": [
      "These are the most common movie genres in the dataset\n"
     ]
    },
    {
     "data": {
      "text/plain": [
       "[('Drama', 4361),\n",
       " ('Comedy', 3756),\n",
       " ('Thriller', 1894),\n",
       " ('Action', 1828),\n",
       " ('Romance', 1596)]"
      ]
     },
     "execution_count": 29,
     "metadata": {},
     "output_type": "execute_result"
    }
   ],
   "source": [
    "# lets check the most common genres of the dataset\n",
    "print('These are the most common movie genres in the dataset')\n",
    "genre_count.most_common(5)"
   ]
  },
  {
   "cell_type": "code",
   "execution_count": 54,
   "metadata": {},
   "outputs": [
    {
     "data": {
      "text/html": [
       "<div>\n",
       "<style scoped>\n",
       "    .dataframe tbody tr th:only-of-type {\n",
       "        vertical-align: middle;\n",
       "    }\n",
       "\n",
       "    .dataframe tbody tr th {\n",
       "        vertical-align: top;\n",
       "    }\n",
       "\n",
       "    .dataframe thead th {\n",
       "        text-align: right;\n",
       "    }\n",
       "</style>\n",
       "<table border=\"1\" class=\"dataframe\">\n",
       "  <thead>\n",
       "    <tr style=\"text-align: right;\">\n",
       "      <th></th>\n",
       "      <th>genre</th>\n",
       "      <th>frequency</th>\n",
       "    </tr>\n",
       "  </thead>\n",
       "  <tbody>\n",
       "    <tr>\n",
       "      <th>6</th>\n",
       "      <td>Drama</td>\n",
       "      <td>4361</td>\n",
       "    </tr>\n",
       "    <tr>\n",
       "      <th>3</th>\n",
       "      <td>Comedy</td>\n",
       "      <td>3756</td>\n",
       "    </tr>\n",
       "    <tr>\n",
       "      <th>9</th>\n",
       "      <td>Thriller</td>\n",
       "      <td>1894</td>\n",
       "    </tr>\n",
       "    <tr>\n",
       "      <th>7</th>\n",
       "      <td>Action</td>\n",
       "      <td>1828</td>\n",
       "    </tr>\n",
       "    <tr>\n",
       "      <th>5</th>\n",
       "      <td>Romance</td>\n",
       "      <td>1596</td>\n",
       "    </tr>\n",
       "    <tr>\n",
       "      <th>0</th>\n",
       "      <td>Adventure</td>\n",
       "      <td>1263</td>\n",
       "    </tr>\n",
       "    <tr>\n",
       "      <th>8</th>\n",
       "      <td>Crime</td>\n",
       "      <td>1199</td>\n",
       "    </tr>\n",
       "    <tr>\n",
       "      <th>12</th>\n",
       "      <td>Sci-Fi</td>\n",
       "      <td>980</td>\n",
       "    </tr>\n",
       "    <tr>\n",
       "      <th>10</th>\n",
       "      <td>Horror</td>\n",
       "      <td>978</td>\n",
       "    </tr>\n",
       "    <tr>\n",
       "      <th>4</th>\n",
       "      <td>Fantasy</td>\n",
       "      <td>779</td>\n",
       "    </tr>\n",
       "    <tr>\n",
       "      <th>2</th>\n",
       "      <td>Children</td>\n",
       "      <td>664</td>\n",
       "    </tr>\n",
       "    <tr>\n",
       "      <th>1</th>\n",
       "      <td>Animation</td>\n",
       "      <td>611</td>\n",
       "    </tr>\n",
       "    <tr>\n",
       "      <th>11</th>\n",
       "      <td>Mystery</td>\n",
       "      <td>573</td>\n",
       "    </tr>\n",
       "    <tr>\n",
       "      <th>15</th>\n",
       "      <td>Documentary</td>\n",
       "      <td>440</td>\n",
       "    </tr>\n",
       "    <tr>\n",
       "      <th>13</th>\n",
       "      <td>War</td>\n",
       "      <td>382</td>\n",
       "    </tr>\n",
       "    <tr>\n",
       "      <th>14</th>\n",
       "      <td>Musical</td>\n",
       "      <td>334</td>\n",
       "    </tr>\n",
       "    <tr>\n",
       "      <th>17</th>\n",
       "      <td>Western</td>\n",
       "      <td>167</td>\n",
       "    </tr>\n",
       "    <tr>\n",
       "      <th>16</th>\n",
       "      <td>IMAX</td>\n",
       "      <td>158</td>\n",
       "    </tr>\n",
       "    <tr>\n",
       "      <th>18</th>\n",
       "      <td>Film-Noir</td>\n",
       "      <td>87</td>\n",
       "    </tr>\n",
       "    <tr>\n",
       "      <th>19</th>\n",
       "      <td>(no genres listed)</td>\n",
       "      <td>34</td>\n",
       "    </tr>\n",
       "  </tbody>\n",
       "</table>\n",
       "</div>"
      ],
      "text/plain": [
       "                 genre  frequency\n",
       "6                Drama       4361\n",
       "3               Comedy       3756\n",
       "9             Thriller       1894\n",
       "7               Action       1828\n",
       "5              Romance       1596\n",
       "0            Adventure       1263\n",
       "8                Crime       1199\n",
       "12              Sci-Fi        980\n",
       "10              Horror        978\n",
       "4              Fantasy        779\n",
       "2             Children        664\n",
       "1            Animation        611\n",
       "11             Mystery        573\n",
       "15         Documentary        440\n",
       "13                 War        382\n",
       "14             Musical        334\n",
       "17             Western        167\n",
       "16                IMAX        158\n",
       "18           Film-Noir         87\n",
       "19  (no genres listed)         34"
      ]
     },
     "execution_count": 54,
     "metadata": {},
     "output_type": "execute_result"
    },
    {
     "data": {
      "image/png": "[encoded data removed]",
      "text/plain": [
       "<Figure size 640x480 with 1 Axes>"
      ]
     },
     "metadata": {},
     "output_type": "display_data"
    }
   ],
   "source": [
    "genre_df = pd.DataFrame({'genre':genre_count.keys(),'frequency': genre_count.values()})\n",
    "sns.barplot(\n",
    "    data = genre_df.sort_values(by='frequency',ascending = False),\n",
    "    x = 'genre',\n",
    "    y = 'frequency',\n",
    "    hue = 'genre',\n",
    "    palette = 'turbo'\n",
    ")\n",
    "plt.title('genre frequencies')\n",
    "plt.xticks(rotation = 90)\n",
    "genre_df.sort_values('frequency',ascending=False)\n",
    "# I dont know why these arrays are being printed above the plot :("
   ]
  },
  {
   "cell_type": "markdown",
   "metadata": {},
   "source": [
    "## <b>Creating the Movie Recommender</b>\n",
    "The creation of the movie recommender system involves many sub processes. \n",
    "### <b>Data pre-processing</b>\n",
    "#### <b>Creating the Sparse matrix.</b>\n",
    "The sparse matrix is a matrix that has\n",
    "- user Id on the rows\n",
    "- movie Id on the columns\n",
    "- the values are the ratings of movies by each user\n",
    "\n",
    "To create the matrix, we need four mappers\n",
    "\n",
    "- <b>movie_mapper</b> = maps the movie Id to the movie index\n",
    "- <b>movie_inv_mapper</b> = maps the movie index to the movie ID\n",
    "- <b>user_mapper</b> = maps the user Id to the user index\n",
    "- <b>user_inv_mapper</b> = maps the user index to the user Id\n",
    "\n"
   ]
  },
  {
   "cell_type": "code",
   "execution_count": 31,
   "metadata": {},
   "outputs": [],
   "source": [
    "from scipy.sparse import csr_matrix\n",
    "# create a function that converts a dataframe to a matrix X\n",
    "def create_X(df):\n",
    "    # create two variables to store unique users and movies\n",
    "    m = df['userId'].nunique() # 610\n",
    "    n = df['movieId'].nunique() # 9724\n",
    "\n",
    "    # the mapper functions map the Id with their Indices\n",
    "    user_mapper = dict(zip(np.unique(df['userId']),list(range(m))))\n",
    "    movie_mapper = dict(zip(np.unique(df['movieId']),list(range(n)))) # Keys and values are sorted\n",
    "\n",
    "    # the inverse mapper functions map the indices with their Id\n",
    "    user_inv_mapper = dict(zip(list(range(m)),np.unique(df['userId']))) \n",
    "    movie_inv_mapper = dict(zip(list(range(n)),np.unique(df['movieId']))) # keys and values are sorted\n",
    "    # movie_inv_mapper = create_inv_mapper(movie_mapper)\n",
    "    # user_inv_mapper = create_inv_mapper(user_mapper)\n",
    "\n",
    "    # storing the index of the users and movies on a separate variable\n",
    "    user_index = [user_mapper[i] for i in df['userId']]\n",
    "    movie_index = [movie_mapper[i] for i in df['movieId']] # values are not sorted\n",
    "\n",
    "    # Create the sparse matrix\n",
    "    X = csr_matrix((df['rating'],(user_index,movie_index)),shape = [m,n])\n",
    "\n",
    "    return X, movie_mapper, movie_inv_mapper, user_mapper, user_inv_mapper\n",
    "\n",
    "X, movie_mapper, movie_inv_mapper, user_mapper, user_inv_mapper = create_X(ratings)\n"
   ]
  },
  {
   "cell_type": "code",
   "execution_count": 32,
   "metadata": {},
   "outputs": [],
   "source": [
    "# movie_inv_mapper\n",
    "def create_inv_mapper(mapper):\n",
    "    inv_mapper = {}\n",
    "    for key,value in mapper.items():\n",
    "        key_inv = value\n",
    "        value_inv = key\n",
    "        inv_mapper[key_inv] = value_inv\n",
    "    return inv_mapper\n",
    "movie_inv_mapper_2 = create_inv_mapper(movie_mapper)\n"
   ]
  },
  {
   "cell_type": "markdown",
   "metadata": {},
   "source": [
    "#### <b>Evaluating sparsity of the matrix</b>\n",
    "\n",
    "- Sparsity of the matrix is the metric to measure the no of empty cella in the sparse matrix\n",
    "- The value of the sparse matrix can be between 0 to 2. abbove or below would lead to unexpected results\n",
    "\n",
    "sparsity = no of non-empty cells / total no of cells"
   ]
  },
  {
   "cell_type": "code",
   "execution_count": 33,
   "metadata": {},
   "outputs": [
    {
     "name": "stdout",
     "output_type": "stream",
     "text": [
      "The sparsity of the matrix is: 1.70\n"
     ]
    }
   ],
   "source": [
    "n_cells = X.shape[0] * X.shape[1]\n",
    "filled_cells = X.nnz\n",
    "\n",
    "# the get.nnz function of the matrix is used to find the no of non-empty cells along an axis, or the whole df if necessary\n",
    "sparsity = filled_cells/n_cells\n",
    "print(f'The sparsity of the matrix is: {(sparsity * 100):.2f}')"
   ]
  },
  {
   "cell_type": "code",
   "execution_count": 34,
   "metadata": {},
   "outputs": [
    {
     "name": "stdout",
     "output_type": "stream",
     "text": [
      "The most active user has rated about 2698 movies\n",
      "The least active user has rated about 20 movies\n"
     ]
    }
   ],
   "source": [
    "# n_ratings_by_user is a list of no of ratings of each user in the matrix\n",
    "n_ratings_by_user = X.getnnz(axis = 1)\n",
    "print(f'The most active user has rated about {n_ratings_by_user.max()} movies')\n",
    "print(f'The least active user has rated about {n_ratings_by_user.min()} movies')"
   ]
  },
  {
   "cell_type": "code",
   "execution_count": 35,
   "metadata": {},
   "outputs": [
    {
     "name": "stdout",
     "output_type": "stream",
     "text": [
      "The most rated movie has about 329 ratings\n",
      "The least rated movie has about 1 ratings\n"
     ]
    }
   ],
   "source": [
    "# n_ratings_by_movie is a list of no_of ratings given to all movies\n",
    "n_ratings_by_movie = X.getnnz(axis = 0)\n",
    "print(f'The most rated movie has about {n_ratings_by_movie.max()} ratings')\n",
    "print(f'The least rated movie has about {n_ratings_by_movie.min()} ratings')"
   ]
  },
  {
   "cell_type": "markdown",
   "metadata": {},
   "source": [
    "#### <b>Collaborative Filtering</b>\n",
    "### FInding similar movies using the k-nearest neighbors\n",
    "- We use the scikit-learn's Nearestneighbors library\n",
    "- The steps are as follows\n",
    "    - First we transpose the matrix so that the Knearestneighbors() model works with the movies instead of movies\n",
    "    - We create an empty list to enter all the nearest neighbours from the implementation\n",
    "    - first we find the movie_vector which is simple the row of the movie in the sparse matrix\n",
    "    - We do that by getting the index of the movie using our movie mapper\n",
    "    - we reshape the vector in a way that it has only one row and n-columns (1,-1) would do the trick\n",
    "    - now we initialize the model and insert the vector into the model\n",
    "    - we create a neighbor variable that is an array of all the nearest movie Ids in the graph\n",
    "    - Then we pop the needed amount of movie Ids from the neighbors array and append it to the empty list we created earlier\n",
    "    - Then we return that list of movie Ids\n"
   ]
  },
  {
   "cell_type": "code",
   "execution_count": 36,
   "metadata": {},
   "outputs": [],
   "source": [
    "from sklearn.neighbors import NearestNeighbors\n",
    "\n",
    "def find_similar_movieIds(movie_id, X, movie_mapper, movie_inv_mapper, k, metric = 'cosine'):\n",
    "    # transpose the sparse matrix X\n",
    "    X = X.T\n",
    "    similar_Ids = []\n",
    "    # identifying the movie vector using the movie mapper\n",
    "    movie_index = movie_mapper[movie_id]\n",
    "    movie_vec = X[movie_index]\n",
    "    # reshape the movie vector\n",
    "    if isinstance(movie_vec,(np.ndarray)):\n",
    "        movie_vec = movie_vec.reshape(1,-1)\n",
    "    # initialize the model\n",
    "    KNN = NearestNeighbors(n_neighbors= k + 1 ,algorithm='brute', metric = metric) # initializing the model\n",
    "    KNN.fit(X) # fitting the matrix for the model to understand it\n",
    "    neighbors = KNN.kneighbors(movie_vec, return_distance = False) # Then find the neighbours for the given vector\n",
    "    for i in range(0, k+1):\n",
    "        n = neighbors.item(i)\n",
    "        similar_Ids.append(movie_inv_mapper[n])\n",
    "    similar_Ids.pop(0)\n",
    "\n",
    "    return similar_Ids\n",
    "\n",
    "# find_similar_movieIds(1, X, movie_mapper, movie_inv_mapper, k, metric = 'cosine')"
   ]
  },
  {
   "cell_type": "code",
   "execution_count": 55,
   "metadata": {},
   "outputs": [
    {
     "name": "stdout",
     "output_type": "stream",
     "text": [
      "Since you have watched Toy Story (1995), you may like:\n",
      "\n",
      "Toy Story 2 (1999)\n",
      "Jurassic Park (1993)\n",
      "Independence Day (a.k.a. ID4) (1996)\n",
      "Star Wars: Episode IV - A New Hope (1977)\n",
      "Forrest Gump (1994)\n",
      "Lion King, The (1994)\n",
      "Star Wars: Episode VI - Return of the Jedi (1983)\n",
      "Mission: Impossible (1996)\n",
      "Groundhog Day (1993)\n",
      "Back to the Future (1985)\n"
     ]
    }
   ],
   "source": [
    "movie_titles = dict(zip(movies['movieId'],movies['title']))\n",
    "\n",
    "def find_similar_movies(movieId,k=10):\n",
    "    crnt_movie = movie_titles[movieId]\n",
    "    movies_list = []\n",
    "    similar_ids = find_similar_movieIds(movieId, X, movie_mapper, movie_inv_mapper,k = k)\n",
    "    print(f'Since you have watched {crnt_movie}, you may like:\\n')\n",
    "    for i in similar_ids:\n",
    "        print(movie_titles[i])\n",
    "find_similar_movies(1)"
   ]
  },
  {
   "cell_type": "code",
   "execution_count": 38,
   "metadata": {},
   "outputs": [],
   "source": [
    "# def movie_recommendations(title):\n",
    "#     moviename = moviename_finder(title)\n",
    "#     print(moviename)\n",
    "#     movie_index = movies_idx[moviename]\n",
    "#     print(movie_index)\n",
    "#     movie_id = movie_mapper[movie_index]\n",
    "#     print(movie_id)\n",
    "#     # find_similar_movies(movieId = movie_id)\n",
    "# movie_recommendations('Jumanji')"
   ]
  },
  {
   "cell_type": "markdown",
   "metadata": {},
   "source": [
    "### <b>Content based filtering</b>\n",
    "In content based filtering we use the cosine similarity of different movies and calculate the movie with highest similarity to the given movie\n",
    "- First we take all the unique genres from the dataframe\n",
    "- We find the cosine similarity for each genre\n",
    "\n",
    "This way, if a horror movie is selected, all movies with horror as the genre will score higher than other movies."
   ]
  },
  {
   "cell_type": "code",
   "execution_count": 39,
   "metadata": {},
   "outputs": [],
   "source": [
    "genres = set(g for genres in movies['genres'] for g in genres)\n",
    "for g in genres:\n",
    "    movies[g] = movies.genres.transform(lambda x: int(g in x))\n",
    "movie_genres = movies.drop(columns= ['movieId','title','genres'])"
   ]
  },
  {
   "cell_type": "markdown",
   "metadata": {},
   "source": [
    "- The recommender system takes in only movie IDs. We are not supposed to remember the movie Id of every movie in the MovieLens Database. \n",
    "- And also, the movie titles in the dataset has the release year attached to it (eg - Blade Runner (1982))\n",
    "- In order to solve this problem, we use 'fuzzywuzzy'.\n",
    "\n",
    "fuzzywuzzy is a python module that is very useful for searching for movies names.\n",
    "- This function recieves a list of all movie names\n",
    "- Then it compares the given title with all other titles and return the closst name to the search word given\n",
    "- For example, 'enterstellar' would return 'Interstellar'\n",
    "\n",
    "And then we can find the id of that movie using movie_titles dictionary"
   ]
  },
  {
   "cell_type": "code",
   "execution_count": 40,
   "metadata": {},
   "outputs": [
    {
     "name": "stderr",
     "output_type": "stream",
     "text": [
      "c:\\Users\\sakir\\apps\\anaconda\\Lib\\site-packages\\fuzzywuzzy\\fuzz.py:11: UserWarning: Using slow pure-python SequenceMatcher. Install python-Levenshtein to remove this warning\n",
      "  warnings.warn('Using slow pure-python SequenceMatcher. Install python-Levenshtein to remove this warning')\n"
     ]
    }
   ],
   "source": [
    "from sklearn.metrics.pairwise import cosine_similarity\n",
    "from fuzzywuzzy import process\n",
    "\n",
    "cosine_sim = cosine_similarity(movie_genres,movie_genres)\n",
    "\n",
    "def moviename_finder(title):\n",
    "    all_titles = movies['title'].tolist()\n",
    "    closest_match = process.extractOne(title,all_titles)\n",
    "    return closest_match[0]"
   ]
  },
  {
   "cell_type": "code",
   "execution_count": 41,
   "metadata": {},
   "outputs": [
    {
     "name": "stdout",
     "output_type": "stream",
     "text": [
      "Monsters vs. Aliens (2009)\n",
      "Contagion (2011)\n",
      "Cloud Atlas (2012)\n",
      "Gravity (2013)\n",
      "The Amazing Spider-Man 2 (2014)\n",
      "Transcendence (2014)\n",
      "Edge of Tomorrow (2014)\n",
      "2010: The Year We Make Contact (1984)\n",
      "Meteor (1979)\n",
      "It Came from Outer Space (1953)\n"
     ]
    }
   ],
   "source": [
    "# methods dump. These are the codes for testing the steps. i have included all these in the main function.\n",
    "\n",
    "title = moviename_finder('Interstellar')\n",
    "movies_idx = dict(zip(movies['title'], list(movies.index)))\n",
    "idx = movies_idx[title]\n",
    "n_recommendations = 10\n",
    "sim_scores = list(enumerate(cosine_sim[idx]))\n",
    "sim_scores = sorted(sim_scores, key=lambda x: x[1], reverse = True)\n",
    "sim_scores = sim_scores[1:n_recommendations+1]\n",
    "movie_ids = [i[0] for i in sim_scores]\n",
    "for i in movie_ids:\n",
    "    print(movies.iloc[i]['title'])\n",
    "\n",
    "# these are recommendations for Interstellar"
   ]
  },
  {
   "cell_type": "markdown",
   "metadata": {},
   "source": [
    "### <b>The Movie Recommender System</b>\n",
    "So, we created the movie recommender system. THe name of the function is:\n",
    "\n",
    "<b>movie_recommendations()</b>\n",
    "- The parameters are the movie title and the 'no_of_recomm' which is the no of recommendations you need\n"
   ]
  },
  {
   "cell_type": "code",
   "execution_count": 42,
   "metadata": {},
   "outputs": [],
   "source": [
    "# Content_based filtering\n",
    "def movie_recommendations(title,no_of_recomm = 10):\n",
    "    moviename = moviename_finder(title)\n",
    "    idx = movies_idx[moviename]\n",
    "    sim_scores = list(enumerate(cosine_sim[idx]))\n",
    "    sim_scores = sorted(sim_scores, key=lambda x: x[1], reverse = True)\n",
    "    sim_scores = sim_scores[1:no_of_recomm+1]\n",
    "    movie_ids = [i[0] for i in sim_scores]\n",
    "    print(f'Since you watched {moviename}\\n')\n",
    "    for i in movie_ids:\n",
    "        print(movies.iloc[i]['title'])"
   ]
  },
  {
   "cell_type": "code",
   "execution_count": 71,
   "metadata": {},
   "outputs": [
    {
     "name": "stdout",
     "output_type": "stream",
     "text": [
      "Since you watched Matrix, The (1999)\n",
      "\n",
      "Screamers (1995)\n",
      "Johnny Mnemonic (1995)\n",
      "Virtuosity (1995)\n",
      "Timecop (1994)\n",
      "Blade Runner (1982)\n",
      "Solo (1996)\n",
      "Arrival, The (1996)\n",
      "Terminator, The (1984)\n",
      "Godzilla (1998)\n",
      "Matrix, The (1999)\n"
     ]
    }
   ],
   "source": [
    "# lets test our recommender system. \n",
    "movie_recommendations('matrix')"
   ]
  }
 ],
 "metadata": {
  "kernelspec": {
   "display_name": "base",
   "language": "python",
   "name": "python3"
  },
  "language_info": {
   "codemirror_mode": {
    "name": "ipython",
    "version": 3
   },
   "file_extension": ".py",
   "mimetype": "text/x-python",
   "name": "python",
   "nbconvert_exporter": "python",
   "pygments_lexer": "ipython3",
   "version": "3.12.3"
  }
 },
 "nbformat": 4,
 "nbformat_minor": 2
}
